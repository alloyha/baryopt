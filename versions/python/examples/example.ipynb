{
 "cells": [
  {
   "cell_type": "code",
   "execution_count": 33,
   "id": "71310d5c",
   "metadata": {},
   "outputs": [],
   "source": [
    "import os, sys\n",
    "import importlib"
   ]
  },
  {
   "cell_type": "code",
   "execution_count": 34,
   "id": "d1fdab3b",
   "metadata": {},
   "outputs": [],
   "source": [
    "currentdir = os.getcwd()\n",
    "parentdir = os.path.dirname(currentdir)\n",
    "sys.path.append(parentdir+'/baryopt')"
   ]
  },
  {
   "cell_type": "code",
   "execution_count": 35,
   "id": "62838b12",
   "metadata": {},
   "outputs": [],
   "source": [
    "oracle = lambda x: norm(x)\n",
    "\n",
    "# Hyperparameters\n",
    "nu = 5\n",
    "sigma = 0.5\n",
    "zeta = 0\n",
    "lambda_ = 1\n",
    "n_iters = 1000"
   ]
  },
  {
   "cell_type": "code",
   "execution_count": 36,
   "id": "15c982ad",
   "metadata": {},
   "outputs": [
    {
     "name": "stdout",
     "output_type": "stream",
     "text": [
      "[[ 0.01196011 -0.01194005]]\n"
     ]
    }
   ],
   "source": [
    "import drecexpbary\n",
    "from numpy.linalg import norm\n",
    "import numpy as np\n",
    "\n",
    "x0 = np.array([1, 1])\n",
    "\n",
    "# Recursive run\n",
    "xhat = drecexpbary.drecexpbary(oracle, x0, nu, sigma, zeta, lambda_, n_iters)\n",
    "\n",
    "print(xhat)"
   ]
  },
  {
   "cell_type": "code",
   "execution_count": 37,
   "id": "51de1037",
   "metadata": {},
   "outputs": [
    {
     "name": "stdout",
     "output_type": "stream",
     "text": [
      "[[0.0158025  0.01678534]]\n"
     ]
    }
   ],
   "source": [
    "import dbatchbary\n",
    "import numpy as np\n",
    "from numpy.random import normal\n",
    "\n",
    "importlib.reload(dbatchbary)\n",
    "\n",
    "# Batch points for batch barycenter version\n",
    "mu_x = 0\n",
    "sigma_x = 1\n",
    "size_x = [1000, 2]\n",
    "\n",
    "xs = normal(mu_x, sigma_x, size_x)\n",
    "\n",
    "x = dbatchbary.dbatchbary(oracle, xs, 10)\n",
    "\n",
    "print(x)"
   ]
  }
 ],
 "metadata": {
  "kernelspec": {
   "display_name": "Python 3 (ipykernel)",
   "language": "python",
   "name": "python3"
  },
  "language_info": {
   "codemirror_mode": {
    "name": "ipython",
    "version": 3
   },
   "file_extension": ".py",
   "mimetype": "text/x-python",
   "name": "python",
   "nbconvert_exporter": "python",
   "pygments_lexer": "ipython3",
   "version": "3.8.10"
  }
 },
 "nbformat": 4,
 "nbformat_minor": 5
}
