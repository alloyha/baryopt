{
 "cells": [
  {
   "cell_type": "code",
   "execution_count": 1,
   "id": "71310d5c",
   "metadata": {},
   "outputs": [],
   "source": [
    "import os, sys\n",
    "\n",
    "currentdir = os.getcwd()\n",
    "parentdir = os.path.dirname(currentdir)\n",
    "sys.path.append(parentdir+'/baryopt')\n"
   ]
  },
  {
   "cell_type": "code",
   "execution_count": 2,
   "id": "15c982ad",
   "metadata": {},
   "outputs": [
    {
     "name": "stdout",
     "output_type": "stream",
     "text": [
      "[[-0.04252469  0.06124647]]\n"
     ]
    }
   ],
   "source": [
    "from drecexpbary import drecexpbary\n",
    "import numpy as np\n",
    "\n",
    "oracle = lambda x: np.power(x, 2)\n",
    "x0 = np.array([0, 0])\n",
    "x = drecexpbary(oracle, x0, 10, 0.1, 0, 1, 100)\n",
    "\n",
    "print(x)"
   ]
  },
  {
   "cell_type": "code",
   "execution_count": 15,
   "id": "51de1037",
   "metadata": {},
   "outputs": [
    {
     "name": "stdout",
     "output_type": "stream",
     "text": [
      "[0.1368491  0.31666112]\n"
     ]
    }
   ],
   "source": [
    "from dbatchbary import dbatchbary\n",
    "import numpy as np\n",
    "\n",
    "oracle = lambda x: np.power(x, 2)\n",
    "xs = np.random.normal(0,1,[100, 2])\n",
    "\n",
    "x = dbatchbary(oracle, xs, 10)\n",
    "\n",
    "print(x)"
   ]
  },
  {
   "cell_type": "code",
   "execution_count": null,
   "id": "ed9dd57c",
   "metadata": {},
   "outputs": [],
   "source": []
  }
 ],
 "metadata": {
  "kernelspec": {
   "display_name": "Python 3 (ipykernel)",
   "language": "python",
   "name": "python3"
  },
  "language_info": {
   "codemirror_mode": {
    "name": "ipython",
    "version": 3
   },
   "file_extension": ".py",
   "mimetype": "text/x-python",
   "name": "python",
   "nbconvert_exporter": "python",
   "pygments_lexer": "ipython3",
   "version": "3.8.10"
  }
 },
 "nbformat": 4,
 "nbformat_minor": 5
}
